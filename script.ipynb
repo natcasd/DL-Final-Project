{
  "nbformat": 4,
  "nbformat_minor": 0,
  "metadata": {
    "colab": {
      "provenance": []
    },
    "kernelspec": {
      "name": "python3",
      "display_name": "Python 3"
    },
    "language_info": {
      "name": "python"
    }
  },
  "cells": [
    {
      "cell_type": "code",
      "source": [
        "from google.colab import drive\n",
        "drive.mount('/content/drive')"
      ],
      "metadata": {
        "colab": {
          "base_uri": "https://localhost:8080/"
        },
        "id": "9ilWqjjrH133",
        "outputId": "c2313f02-7109-44fc-f627-8f31eeafe24a"
      },
      "execution_count": null,
      "outputs": [
        {
          "output_type": "stream",
          "name": "stdout",
          "text": [
            "Mounted at /content/drive\n"
          ]
        }
      ]
    },
    {
      "cell_type": "markdown",
      "source": [
        "30 second .wav files to 3 second mel spectrogram torch tensors"
      ],
      "metadata": {
        "id": "4Tshx1M3I6La"
      }
    },
    {
      "cell_type": "code",
      "source": [
        "import pandas as pd\n",
        "import librosa\n",
        "import numpy as np\n",
        "import torch\n",
        "import os\n",
        "\n",
        "path = \"drive/Shareddrives/DL Final Project/genres_original/\" #path to .wav files\n",
        "csv_file = 'drive/Shareddrives/DL Final Project/DL Final Project/features_3_sec.csv'\n",
        "pathspectrograms = \"drive/Shareddrives/DL Final Project/spectrogram_tensors/\"\n",
        "files = pd.read_csv(csv_file). #read .csv file of labels and names of 3 second audio files\n",
        "\n",
        "numrows = len(files.index)\n",
        "hop_length = 512\n",
        "n_fft = 2048\n",
        "\n",
        "\n",
        "#.wav files are 30 seconds long, filenames follow the format \"genre.number.wav\", have to split these files into 3 second mel spectrograms with filename format \"genre.number.number_in_split.wav\"\n",
        "#the filenames for the 3 second mel spectrograms are given in the .csv file, but have to pull the data for each of them from their corresponding 30 second .wav file\n",
        "\n",
        "for index in range(0,numrows): #iterate through every file in .csv\n",
        "  if not os.path.exists(pathspectrograms+str(files.iloc[index,0])+'.pt'):  #check if file has already been generated\n",
        "    print(str(files.iloc[index,0]))\n",
        "    name = str(files.iloc[index,0]).split('.')\n",
        "    numberinfile = float(name[2]) #get number_in_split from file\n",
        "    snipduration = 3. #spectrograms being generated will be 3 seconds long\n",
        "    file = name[0] + '.' + name[1] + '.' + name[3] #concatenate 30 second file name from the 3 second file name\n",
        "    img_path = path + str(files.iloc[index,59]) + \"/\" + file. #get file path of 30 second wav file\n",
        "    y,s = librosa.load(img_path, offset = numberinfile*3, duration = snipduration). #load selected 3 second snippet of .wav\n",
        "    mel = librosa.feature.melspectrogram(y, sr=s, hop_length=hop_length, n_fft=n_fft, n_mels = 96)\n",
        "    spectrogram = np.abs(mel) \n",
        "    power_to_db = librosa.power_to_db(spectrogram, ref=np.max) #convert to mel spectrogram\n",
        "    tensor = torch.from_numpy(power_to_db)\n",
        "    torch.save(tensor, pathspectrograms+str(files.iloc[index,0])+'.pt'). #save as torch tensor"
      ],
      "metadata": {
        "id": "iYTGNrrXGLUu"
      },
      "execution_count": null,
      "outputs": []
    }
  ]
}